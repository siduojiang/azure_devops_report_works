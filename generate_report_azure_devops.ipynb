{
 "cells": [
  {
   "cell_type": "markdown",
   "metadata": {},
   "source": [
    "### Requirements"
   ]
  },
  {
   "cell_type": "markdown",
   "metadata": {},
   "source": [
    "Install Python azure-devops\n",
    "\n",
    "> pip install azure-devops"
   ]
  },
  {
   "cell_type": "markdown",
   "metadata": {},
   "source": [
    "### Command Line Utility"
   ]
  },
  {
   "cell_type": "code",
   "execution_count": 1,
   "metadata": {},
   "outputs": [
    {
     "name": "stdout",
     "output_type": "stream",
     "text": [
      "| (44)[Feature] DS Project\r\n",
      "|-- (33)[Product Backlog Item] Data Cleaning Phase II\r\n",
      "|---- (51)[Task] Standardization\r\n",
      "|-- (34)[Product Backlog Item] EDA Phase I\r\n",
      "|---- (52)[Task] Variable Exploration\r\n",
      "|-- (35)[Product Backlog Item] EDA Phase II\r\n",
      "|---- (57)[Task] Correlations and initial ideas\r\n",
      "|-- (36)[Product Backlog Item] Feature Engineering Phase I\r\n",
      "|-- (38)[Product Backlog Item] ML Model\r\n",
      "|---- (54)[Task] Metric Development\r\n",
      "|---- (55)[Task] Model Dev\r\n",
      "|-- (39)[Product Backlog Item] DL Model\r\n",
      "|---- (59)[Task] Hyperparameter tuning\r\n",
      "|-- (40)[Product Backlog Item] Model Comparison and Analysis\r\n",
      "|-- (41)[Product Backlog Item] Deployment\r\n",
      "|-- (45)[Product Backlog Item] Data Ingestion\r\n",
      "|---- (46)[Task] Pipeline Tool 1\r\n",
      "|---- (47)[Task] Pipeline Tool 2\r\n",
      "| (69)[Feature] Feature 2\r\n",
      "|-- (70)[Product Backlog Item] Backlog I\r\n",
      "|---- (71)[Task] Task I\r\n",
      "|---- (72)[Task] Task II\r\n",
      "|-- (74)[Product Backlog Item] Backlog II\r\n",
      "|---- (75)[Task] Task I\r\n"
     ]
    }
   ],
   "source": [
    "!python ./azure_dev_opts_wiql.py\\\n",
    "      --org-name \"siduojiang\"\\\n",
    "      --access-token $(cat personal_access_token)\\\n",
    "      --tag \"SELECTED\"\\\n",
    "      --project-name \"KM Interview\""
   ]
  },
  {
   "cell_type": "code",
   "execution_count": 2,
   "metadata": {},
   "outputs": [
    {
     "name": "stdout",
     "output_type": "stream",
     "text": [
      "| (44)[Feature] DS Project\r\n",
      "|-- (31)[Bug] Data Ingestion Bug\r\n",
      "|---- (67)[Task] Code Review\r\n",
      "|-- (32)[Product Backlog Item] Data Cleaning Phase I\r\n",
      "|---- (49)[Task] Missing Fields\r\n",
      "|---- (50)[Task] Suspect Fields\r\n",
      "|-- (33)[Product Backlog Item] Data Cleaning Phase II\r\n",
      "|---- (51)[Task] Standardization\r\n",
      "|-- (34)[Product Backlog Item] EDA Phase I\r\n",
      "|---- (52)[Task] Variable Exploration\r\n",
      "|-- (35)[Product Backlog Item] EDA Phase II\r\n",
      "|---- (57)[Task] Correlations and initial ideas\r\n",
      "|-- (36)[Product Backlog Item] Feature Engineering Phase I\r\n",
      "|---- (60)[Task] Transformations\r\n",
      "|---- (61)[Task] Feature importance\r\n",
      "|-- (37)[Product Backlog Item] Feature Engineering Phase II\r\n",
      "|---- (62)[Task] Feature mining\r\n",
      "|-- (38)[Product Backlog Item] ML Model\r\n",
      "|---- (54)[Task] Metric Development\r\n",
      "|---- (55)[Task] Model Dev\r\n",
      "|---- (56)[Task] Tuning and Eval\r\n",
      "|-- (39)[Product Backlog Item] DL Model\r\n",
      "|---- (58)[Task] Evaluation of need\r\n",
      "|---- (59)[Task] Hyperparameter tuning\r\n",
      "|-- (40)[Product Backlog Item] Model Comparison and Analysis\r\n",
      "|---- (66)[Task] Model evaluation\r\n",
      "|-- (41)[Product Backlog Item] Deployment\r\n",
      "|---- (65)[Task] Efficiency Task\r\n",
      "|-- (42)[Product Backlog Item] Reporting - Technical\r\n",
      "|---- (64)[Task] Tool documentation\r\n",
      "|-- (43)[Product Backlog Item] Reporting - Customer\r\n",
      "|---- (63)[Task] Slides\r\n",
      "|-- (45)[Product Backlog Item] Data Ingestion\r\n",
      "|---- (46)[Task] Pipeline Tool 1\r\n",
      "|---- (47)[Task] Pipeline Tool 2\r\n",
      "|---- (48)[Task] Azure Integration\r\n",
      "| (69)[Feature] Feature 2\r\n",
      "|-- (70)[Product Backlog Item] Backlog I\r\n",
      "|---- (71)[Task] Task I\r\n",
      "|---- (72)[Task] Task II\r\n",
      "|---- (73)[Task] Task III\r\n",
      "|-- (74)[Product Backlog Item] Backlog II\r\n",
      "|---- (75)[Task] Task I\r\n",
      "|---- (76)[Task] Task II\r\n",
      "|-- (77)[Product Backlog Item] Backlog III\r\n",
      "|---- (78)[Task] Task I\r\n",
      "|---- (79)[Task] Task II\r\n"
     ]
    }
   ],
   "source": [
    "#No tag used\n",
    "!python ./azure_dev_opts_wiql.py\\\n",
    "      --org-name \"siduojiang\"\\\n",
    "      --access-token $(cat personal_access_token)\\\n",
    "      --project-name \"KM Interview\""
   ]
  },
  {
   "cell_type": "markdown",
   "metadata": {},
   "source": [
    "### Python API"
   ]
  },
  {
   "cell_type": "code",
   "execution_count": 3,
   "metadata": {},
   "outputs": [],
   "source": [
    "from azure_dev_opts_wiql import ReportProjectWorks"
   ]
  },
  {
   "cell_type": "code",
   "execution_count": 4,
   "metadata": {},
   "outputs": [],
   "source": [
    "#Custom access token needed (mine is stored in a protected file)\n",
    "access_token = open('personal_access_token').readline()\n",
    "organization = 'https://dev.azure.com/siduojiang'"
   ]
  },
  {
   "cell_type": "code",
   "execution_count": 5,
   "metadata": {
    "scrolled": true
   },
   "outputs": [
    {
     "name": "stdout",
     "output_type": "stream",
     "text": [
      "| (44)[Feature] DS Project\n",
      "|-- (33)[Product Backlog Item] Data Cleaning Phase II\n",
      "|---- (51)[Task] Standardization\n",
      "|-- (34)[Product Backlog Item] EDA Phase I\n",
      "|---- (52)[Task] Variable Exploration\n",
      "|-- (35)[Product Backlog Item] EDA Phase II\n",
      "|---- (57)[Task] Correlations and initial ideas\n",
      "|-- (36)[Product Backlog Item] Feature Engineering Phase I\n",
      "|-- (38)[Product Backlog Item] ML Model\n",
      "|---- (54)[Task] Metric Development\n",
      "|---- (55)[Task] Model Dev\n",
      "|-- (39)[Product Backlog Item] DL Model\n",
      "|---- (59)[Task] Hyperparameter tuning\n",
      "|-- (40)[Product Backlog Item] Model Comparison and Analysis\n",
      "|-- (41)[Product Backlog Item] Deployment\n",
      "|-- (45)[Product Backlog Item] Data Ingestion\n",
      "|---- (46)[Task] Pipeline Tool 1\n",
      "|---- (47)[Task] Pipeline Tool 2\n",
      "| (69)[Feature] Feature 2\n",
      "|-- (70)[Product Backlog Item] Backlog I\n",
      "|---- (71)[Task] Task I\n",
      "|---- (72)[Task] Task II\n",
      "|-- (74)[Product Backlog Item] Backlog II\n",
      "|---- (75)[Task] Task I\n"
     ]
    }
   ],
   "source": [
    "ReportProjectWorks(access_token, \n",
    "                   organization, \n",
    "                   project_name='KM Interview', \n",
    "                   tag=\"SELECTED\")\\\n",
    "                  .generate_report()"
   ]
  }
 ],
 "metadata": {
  "kernelspec": {
   "display_name": "Python 3.7.1 64-bit ('base': conda)",
   "language": "python",
   "name": "python37164bitbaseconda49fbb16cd0cf40168ce7baf7dbce7f81"
  },
  "language_info": {
   "codemirror_mode": {
    "name": "ipython",
    "version": 3
   },
   "file_extension": ".py",
   "mimetype": "text/x-python",
   "name": "python",
   "nbconvert_exporter": "python",
   "pygments_lexer": "ipython3",
   "version": "3.7.1"
  }
 },
 "nbformat": 4,
 "nbformat_minor": 2
}
