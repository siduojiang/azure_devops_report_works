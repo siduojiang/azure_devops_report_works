{
 "cells": [
  {
   "cell_type": "markdown",
   "metadata": {},
   "source": [
    "### Requirements"
   ]
  },
  {
   "cell_type": "markdown",
   "metadata": {},
   "source": [
    "Install Python azure-devops\n",
    "\n",
    "> pip install azure-devops"
   ]
  },
  {
   "cell_type": "markdown",
   "metadata": {},
   "source": [
    "### Command Line Utility"
   ]
  },
  {
   "cell_type": "code",
   "execution_count": 1,
   "metadata": {},
   "outputs": [
    {
     "name": "stdout",
     "output_type": "stream",
     "text": [
      "| (44)[Feature] DS Project\n",
      "|-- (33)[Product Backlog Item] Data Cleaning Phase II\n",
      "|---- (51)[Task] Standardization\n",
      "|-- (34)[Product Backlog Item] EDA Phase I\n",
      "|---- (52)[Task] Variable Exploration\n",
      "|-- (35)[Product Backlog Item] EDA Phase II\n",
      "|---- (57)[Task] Correlations and initial ideas\n",
      "|-- (36)[Product Backlog Item] Feature Engineering Phase I\n",
      "|-- (38)[Product Backlog Item] ML Model\n",
      "|---- (54)[Task] Metric Development\n",
      "|---- (55)[Task] Model Dev\n",
      "|-- (39)[Product Backlog Item] DL Model\n",
      "|---- (59)[Task] Hyperparameter tuning\n",
      "|-- (40)[Product Backlog Item] Model Comparison and Analysis\n",
      "|-- (41)[Product Backlog Item] Deployment\n",
      "|-- (45)[Product Backlog Item] Data Ingestion\n",
      "|---- (46)[Task] Pipeline Tool 1\n",
      "|---- (47)[Task] Pipeline Tool 2\n",
      "| (69)[Feature] Feature 2\n",
      "|-- (70)[Product Backlog Item] Backlog I\n",
      "|---- (71)[Task] Task I\n",
      "|---- (72)[Task] Task II\n",
      "|-- (74)[Product Backlog Item] Backlog II\n",
      "|---- (75)[Task] Task I\n"
     ]
    }
   ],
   "source": [
    "!python ./azure_dev_opts_wiql.py\\\n",
    "      --org-name \"siduojiang\"\\\n",
    "      --access-token $(cat personal_access_token)\\\n",
    "      --tag \"SELECTED\"\\\n",
    "      --project-name \"KM Interview\""
   ]
  },
  {
   "cell_type": "code",
   "execution_count": 2,
   "metadata": {},
   "outputs": [
    {
     "name": "stdout",
     "output_type": "stream",
     "text": [
      "| (44)[Feature] DS Project\n",
      "|-- (31)[Bug] Data Ingestion Bug\n",
      "|---- (67)[Task] Code Review\n",
      "|-- (32)[Product Backlog Item] Data Cleaning Phase I\n",
      "|---- (49)[Task] Missing Fields\n",
      "|---- (50)[Task] Suspect Fields\n",
      "|-- (33)[Product Backlog Item] Data Cleaning Phase II\n",
      "|---- (51)[Task] Standardization\n",
      "|-- (34)[Product Backlog Item] EDA Phase I\n",
      "|---- (52)[Task] Variable Exploration\n",
      "|-- (35)[Product Backlog Item] EDA Phase II\n",
      "|---- (57)[Task] Correlations and initial ideas\n",
      "|-- (36)[Product Backlog Item] Feature Engineering Phase I\n",
      "|---- (60)[Task] Transformations\n",
      "|---- (61)[Task] Feature importance\n",
      "|-- (37)[Product Backlog Item] Feature Engineering Phase II\n",
      "|---- (62)[Task] Feature mining\n",
      "|-- (38)[Product Backlog Item] ML Model\n",
      "|---- (54)[Task] Metric Development\n",
      "|---- (55)[Task] Model Dev\n",
      "|---- (56)[Task] Tuning and Eval\n",
      "|-- (39)[Product Backlog Item] DL Model\n",
      "|---- (58)[Task] Evaluation of need\n",
      "|---- (59)[Task] Hyperparameter tuning\n",
      "|-- (40)[Product Backlog Item] Model Comparison and Analysis\n",
      "|---- (66)[Task] Model evaluation\n",
      "|-- (41)[Product Backlog Item] Deployment\n",
      "|---- (65)[Task] Efficiency Task\n",
      "|-- (42)[Product Backlog Item] Reporting - Technical\n",
      "|---- (64)[Task] Tool documentation\n",
      "|-- (43)[Product Backlog Item] Reporting - Customer\n",
      "|---- (63)[Task] Slides\n",
      "|-- (45)[Product Backlog Item] Data Ingestion\n",
      "|---- (46)[Task] Pipeline Tool 1\n",
      "|---- (47)[Task] Pipeline Tool 2\n",
      "|---- (48)[Task] Azure Integration\n",
      "| (69)[Feature] Feature 2\n",
      "|-- (70)[Product Backlog Item] Backlog I\n",
      "|---- (71)[Task] Task I\n",
      "|---- (72)[Task] Task II\n",
      "|---- (73)[Task] Task III\n",
      "|-- (74)[Product Backlog Item] Backlog II\n",
      "|---- (75)[Task] Task I\n",
      "|---- (76)[Task] Task II\n",
      "|-- (77)[Product Backlog Item] Backlog III\n",
      "|---- (78)[Task] Task I\n",
      "|---- (79)[Task] Task II\n"
     ]
    }
   ],
   "source": [
    "#No tag used\n",
    "!python ./azure_dev_opts_wiql.py\\\n",
    "      --org-name \"siduojiang\"\\\n",
    "      --access-token $(cat personal_access_token)\\\n",
    "      --project-name \"KM Interview\""
   ]
  },
  {
   "cell_type": "code",
   "execution_count": 8,
   "metadata": {},
   "outputs": [
    {
     "name": "stdout",
     "output_type": "stream",
     "text": [
      "| (68)[User Story] DS Project\r\n",
      "|-- (83)[Task] Test\r\n",
      "| (84)[Feature] Test\r\n",
      "|-- (85)[User Story] Test\r\n",
      "|---- (86)[Task] Test\r\n"
     ]
    }
   ],
   "source": [
    "#No tag used\n",
    "!python ./azure_dev_opts_wiql.py\\\n",
    "      --org-name \"siduojiang\"\\\n",
    "      --access-token $(cat personal_access_token)\\\n",
    "      --project-name \"KM Interview Agile\""
   ]
  },
  {
   "cell_type": "markdown",
   "metadata": {},
   "source": [
    "### Python API"
   ]
  },
  {
   "cell_type": "code",
   "execution_count": 3,
   "metadata": {},
   "outputs": [],
   "source": [
    "from azure_dev_opts_wiql import ReportProjectWorks"
   ]
  },
  {
   "cell_type": "code",
   "execution_count": 4,
   "metadata": {},
   "outputs": [],
   "source": [
    "access_token = open('personal_access_token').readline()\n",
    "organization = 'https://dev.azure.com/siduojiang'"
   ]
  },
  {
   "cell_type": "code",
   "execution_count": 5,
   "metadata": {
    "scrolled": true
   },
   "outputs": [
    {
     "name": "stdout",
     "output_type": "stream",
     "text": [
      "| (44)[Feature] DS Project\n",
      "|-- (33)[Product Backlog Item] Data Cleaning Phase II\n",
      "|---- (51)[Task] Standardization\n",
      "|-- (34)[Product Backlog Item] EDA Phase I\n",
      "|---- (52)[Task] Variable Exploration\n",
      "|-- (35)[Product Backlog Item] EDA Phase II\n",
      "|---- (57)[Task] Correlations and initial ideas\n",
      "|-- (36)[Product Backlog Item] Feature Engineering Phase I\n",
      "|-- (38)[Product Backlog Item] ML Model\n",
      "|---- (54)[Task] Metric Development\n",
      "|---- (55)[Task] Model Dev\n",
      "|-- (39)[Product Backlog Item] DL Model\n",
      "|---- (59)[Task] Hyperparameter tuning\n",
      "|-- (40)[Product Backlog Item] Model Comparison and Analysis\n",
      "|-- (41)[Product Backlog Item] Deployment\n",
      "|-- (45)[Product Backlog Item] Data Ingestion\n",
      "|---- (46)[Task] Pipeline Tool 1\n",
      "|---- (47)[Task] Pipeline Tool 2\n",
      "| (69)[Feature] Feature 2\n",
      "|-- (70)[Product Backlog Item] Backlog I\n",
      "|---- (71)[Task] Task I\n",
      "|---- (72)[Task] Task II\n",
      "|-- (74)[Product Backlog Item] Backlog II\n",
      "|---- (75)[Task] Task I\n"
     ]
    }
   ],
   "source": [
    "ReportProjectWorks(access_token, organization, project_name='KM Interview', tag=\"SELECTED\").generate_report()"
   ]
  }
 ],
 "metadata": {
  "kernelspec": {
   "display_name": "Python 3.7.1 64-bit ('base': conda)",
   "language": "python",
   "name": "python37164bitbaseconda49fbb16cd0cf40168ce7baf7dbce7f81"
  },
  "language_info": {
   "codemirror_mode": {
    "name": "ipython",
    "version": 3
   },
   "file_extension": ".py",
   "mimetype": "text/x-python",
   "name": "python",
   "nbconvert_exporter": "python",
   "pygments_lexer": "ipython3",
   "version": "3.7.1"
  }
 },
 "nbformat": 4,
 "nbformat_minor": 2
}
